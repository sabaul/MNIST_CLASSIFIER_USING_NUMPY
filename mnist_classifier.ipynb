{
  "nbformat": 4,
  "nbformat_minor": 2,
  "metadata": {
    "orig_nbformat": 4,
    "language_info": {
      "name": "python",
      "version": "3.8.11",
      "mimetype": "text/x-python",
      "codemirror_mode": {
        "name": "ipython",
        "version": 3
      },
      "pygments_lexer": "ipython3",
      "nbconvert_exporter": "python",
      "file_extension": ".py"
    },
    "kernelspec": {
      "name": "python3",
      "display_name": "Python 3.8.11 64-bit ('snowflakes': conda)"
    },
    "interpreter": {
      "hash": "402ace03bccc6065a81da4878285a94adc24be91a7864329bd31d7cbb4feb150"
    },
    "colab": {
      "name": "onceMoreColab3_SUPERSUPERFINAL.ipynb",
      "provenance": []
    }
  },
  "cells": [
    {
      "cell_type": "code",
      "execution_count": 1,
      "source": [
        "import numpy as np\n",
        "import requests, gzip, os, hashlib\n",
        "import matplotlib.pyplot as plt\n",
        "np.random.seed(1)\n",
        "%pylab inline"
      ],
      "outputs": [
        {
          "output_type": "stream",
          "name": "stdout",
          "text": [
            "Populating the interactive namespace from numpy and matplotlib\n"
          ]
        }
      ],
      "metadata": {
        "colab": {
          "base_uri": "https://localhost:8080/"
        },
        "id": "MhTxfeMXhRkB",
        "outputId": "9d1da08a-2a7f-4e2a-f246-3687dff4345b"
      }
    },
    {
      "cell_type": "code",
      "execution_count": 2,
      "source": [
        "# FUNCTION TO INITIALIZE PARAMETERS\n",
        "def initialize_parameters(n_x, n_h, n_y):\n",
        "    \"\"\"\n",
        "    n_x -- number of input nodes\n",
        "    n_h -- number of hidden nodes\n",
        "    n_y -- number of output nodes\n",
        "\n",
        "    Returns:\n",
        "    W1 -- weight matrix of shape(n_h, n_x)\n",
        "    b1 -- bias vector of shape(n_h, 1)\n",
        "    W2 -- weight matrix of shape(n_y, n_h)\n",
        "    b2 -- bias vector of shape(n_y, 1)\n",
        "    \"\"\"\n",
        "\n",
        "    W1 = np.random.randn(n_h, n_x) * 0.01\n",
        "    b1 = np.zeros((n_h, 1))\n",
        "    W2 = np.random.randn(n_y, n_h) * 0.01\n",
        "    b2 = np.zeros((n_y, 1))\n",
        "\n",
        "    parameters = {\n",
        "                  \"W1\": W1,\n",
        "                  \"b1\": b1,\n",
        "                  \"W2\": W2,\n",
        "                  \"b2\": b2\n",
        "                  }\n",
        "    \n",
        "    return parameters"
      ],
      "outputs": [],
      "metadata": {
        "id": "GXUj_gwug_ZZ"
      }
    },
    {
      "cell_type": "code",
      "execution_count": 3,
      "source": [
        "# ALL THE ACTIVATION FUNCTIONS WITH THEIR DERIVATIVES FOR BACKWARD PROP.\n",
        "\n",
        "def relu(Z):\n",
        "    A = np.maximum(0, Z)\n",
        "    cache = Z\n",
        "\n",
        "    return A, cache\n",
        "\n",
        "def relu_backward(dA, cache):\n",
        "    Z = cache\n",
        "    dZ = np.array(dA, copy = True)\n",
        "    dZ[Z <= 0] = 0\n",
        "\n",
        "    return dZ\n",
        "\n",
        "\n",
        "def softmax(Z):\n",
        "    A = np.exp(Z) / np.sum(np.exp(Z), axis = 0)\n",
        "    cache = Z\n",
        "    return A, cache\n",
        "\n",
        "def softmax_backward(dA, cache):\n",
        "    Z = cache\n",
        "    s = np.exp(Z) / np.sum(np.exp(Z), axis = 0)\n",
        "    dZ = dA * s * (1 - s)\n",
        "\n",
        "    return dZ"
      ],
      "outputs": [],
      "metadata": {
        "id": "tMrthOgNg_Zh"
      }
    },
    {
      "cell_type": "code",
      "execution_count": 4,
      "source": [
        "# FUNCTIONS FOR FORWARD PROPAGATION\n",
        "\n",
        "def linear_forward(A, W, b):\n",
        "    \"\"\"\n",
        "    Implement the linear part of a layer's forward propagation.\n",
        "\n",
        "    Arguments:\n",
        "    A -- Activations from the previous layers (or input layer)\n",
        "    W -- Weights matrix\n",
        "    b -- Bias vector\n",
        "\n",
        "    Returns:\n",
        "    Z -- The input of the activation function, also called pre-activation parameter\n",
        "    cache -- A python tuple containing \"A\", \"W\" and \"b\" ; stored for computing the backward pass efficiently\n",
        "    \"\"\"\n",
        "\n",
        "    Z = np.dot(W, A) + b\n",
        "\n",
        "    cache = (A, W, b)\n",
        "\n",
        "    return Z, cache\n",
        "\n",
        "\n",
        "\n",
        "def linear_activation_forward(A_prev, W, b, activation):\n",
        "    \"\"\"\n",
        "    A_prev -- activations from previous layer (or input layer): (size of previous layer, number of examples)\n",
        "    W -- Weight matrix: numpy array of shape (size of current layer, size of previos layer)\n",
        "    b -- Bias Vector: numpy array of shape (size of current layer, 1)\n",
        "    activation -- The activation to be used in this layer, stored as string: \"relu\" or \"softmax\"\n",
        "\n",
        "    Returns:\n",
        "    A -- The output of the activation function, also called post-activation value\n",
        "    cache -- A python tuple containing \"linear_cache\" and \"activation cache\";\n",
        "             Sroted for computing the backward propagation efficiently\n",
        "    \"\"\"\n",
        "\n",
        "    if activation == \"relu\":\n",
        "        Z, linear_cache = linear_forward(A_prev, W, b)\n",
        "        A, activation_cache = relu(Z)\n",
        "    \n",
        "    elif activation == \"softmax\":\n",
        "        Z, linear_cache = linear_forward(A_prev, W, b)\n",
        "        A, activation_cache = softmax(Z)\n",
        "    \n",
        "    cache = (linear_cache, activation_cache)\n",
        "\n",
        "    return A, cache"
      ],
      "outputs": [],
      "metadata": {
        "id": "rm9ktAG5g_Zi"
      }
    },
    {
      "cell_type": "code",
      "execution_count": 5,
      "source": [
        "# FUNCTIONS FOR BACKWARD PROPAGATION\n",
        "\n",
        "def linear_backward(dZ, cache):\n",
        "    \"\"\"\n",
        "    Implement the linear portion of back propagation for a single layer (layer l)\n",
        "\n",
        "    Arguments:\n",
        "    dZ -- Gradient of the cost with respect to the linear output (of current layer l)\n",
        "    cache -- tuple of values (A_prev, W, b) coming from the forward propagation in the current layer\n",
        "\n",
        "    Returns:\n",
        "    dA_prev -- Gradient of the cost with respect to the activation (of the previous layer l-1), same shape as A_prev\n",
        "    dW -- Gradient of the cost with respect to W (current layer l), same shape as W\n",
        "    db -- Gradient of the cost with respect to b (current layer l), same shape as b\n",
        "    \"\"\"\n",
        "\n",
        "    A_prev, W, b = cache\n",
        "    m = A_prev.shape[1]\n",
        "\n",
        "    dW = (1/m) * np.dot(dZ, A_prev.T)\n",
        "    db = (1/m) * np.sum(dZ, axis = 1, keepdims=True)\n",
        "    dA_prev = np.dot(W.T, dZ)\n",
        "\n",
        "    return dA_prev, dW, db\n",
        "\n",
        "\n",
        "def linear_activation_backward(dA, cache, activation):\n",
        "    \"\"\"\n",
        "    Implement the backward propagation for the LINEAR --> ACTIVATION layer.\n",
        "\n",
        "    Argumenst:\n",
        "    dA -- post-activation gradient for current layer 1\n",
        "    cache -- tuple of values (linear_cache, activation cache) we store for computing backward propagation efficiently\n",
        "    activation -- The activation to be used in this layer, stored as string: \"relu\" or \"softmax\"\n",
        "\n",
        "    Returns:\n",
        "    dA_prev -- Gradient of the cost with respect to the activation (of the previous layer l-1), same shape as A_prev\n",
        "    dW -- Gradient of the cost with respect to W (current layer l), same shape as W\n",
        "    db -- Gradient of the cost with respect to b (current layer l), same shape as b\n",
        "    \"\"\"\n",
        "\n",
        "    linear_cache, activation_cache = cache\n",
        "\n",
        "    if activation == \"relu\":\n",
        "        dZ = relu_backward(dA, activation_cache)\n",
        "        dA_prev, dW, db = linear_backward(dZ, linear_cache)\n",
        "    \n",
        "    elif activation == \"softmax\":\n",
        "        dZ = softmax_backward(dA, activation_cache)\n",
        "        dA_prev, dW, db = linear_backward(dZ, linear_cache)\n",
        "    \n",
        "    return dA_prev, dW, db"
      ],
      "outputs": [],
      "metadata": {
        "id": "xgeYhsmvg_Zk"
      }
    },
    {
      "cell_type": "code",
      "execution_count": 6,
      "source": [
        "# COST FUNCTION\n",
        "\n",
        "def compute_cost(AL, Y):\n",
        "    \"\"\"\n",
        "    Using mean square error as the cost function.\n",
        "\n",
        "    Arguments:\n",
        "    AL -- Probability vector corresponding to the label predictions of output layer\n",
        "    Y -- True Label of the corresponding example\n",
        "\n",
        "    Returns: \n",
        "    cost -- Mean Squared Error cost\n",
        "    \"\"\"\n",
        "\n",
        "    m = Y.shape[1]\n",
        "    cost = (1/(2*m)) * np.sum(np.square(AL - Y))\n",
        "\n",
        "    return cost"
      ],
      "outputs": [],
      "metadata": {
        "id": "QQ-WL2LDg_Zm"
      }
    },
    {
      "cell_type": "code",
      "execution_count": 7,
      "source": [
        "# UPDATE PARAMETERS\n",
        "\n",
        "def update_parameters(parameters, grads, learning_rate):\n",
        "    \"\"\"\n",
        "    Update parameters using gradient descent\n",
        "\n",
        "    Arguments:\n",
        "    parameters -- python dictionary containing the parameters\n",
        "    grads -- python dictionary containing the gradients\n",
        "\n",
        "    Returns:\n",
        "    parameters -- python dictionary containing the updated parameters\n",
        "    \"\"\"\n",
        "\n",
        "    L = len(parameters) // 2\n",
        "\n",
        "    for l in range(L):\n",
        "        parameters[\"W\" + str(l+1)] = parameters[\"W\" + str(l+1)] - learning_rate*grads[\"dW\" + str(l+1)]\n",
        "        parameters[\"b\" + str(l+1)] = parameters[\"b\" + str(l+1)] - learning_rate*grads[\"db\" + str(l+1)]\n",
        "    \n",
        "    return parameters"
      ],
      "outputs": [],
      "metadata": {
        "id": "oLqYCMzcg_Zn"
      }
    },
    {
      "cell_type": "code",
      "execution_count": 8,
      "source": [
        "# FORWARD MODEL TO PREDICT FOR TEST SET\n",
        "\n",
        "def model_forward(X, parameters):\n",
        "    \"\"\"\n",
        "    Implement forward propagarion for the model\n",
        "\n",
        "    Arguments:\n",
        "    X -- data, numpy array of shape (input size, number of examples)\n",
        "    parameters -- output of initialize_parameters()\n",
        "\n",
        "    Returns:\n",
        "    AL -- last post-activation value\n",
        "    caches -- List of caches\n",
        "    \"\"\"\n",
        "\n",
        "    caches = []\n",
        "    A = X\n",
        "    L = len(parameters) // 2        # number of layers in the neural network\n",
        "\n",
        "    # Implement [LINEAR -> RELU]*(L-1). Add \"cache\" to the \"caches\" list.\n",
        "    for l in range(1, L):\n",
        "        A_prev = A\n",
        "        A, cache = linear_activation_forward(A_prev, parameters[\"W\" + str(l)], parameters[\"b\" + str(l)], activation = \"relu\")\n",
        "        caches.append(cache)\n",
        "    \n",
        "    # Implement LINEAR -> SOFTMAX. Add \"cache\" to the \"caches\" list.\n",
        "    AL, cache = linear_activation_forward(A, parameters[\"W\" + str(L)], parameters[\"b\" + str(L)], activation = \"softmax\")\n",
        "    caches.append(cache)\n",
        "\n",
        "    return AL, caches"
      ],
      "outputs": [],
      "metadata": {
        "id": "tE0_vgPqg_Zp"
      }
    },
    {
      "cell_type": "code",
      "execution_count": 80,
      "source": [
        "# FUNCTION TO PREDICT THE OUTPUT FOR TEST SET\n",
        "\n",
        "def predict(X, y, parameters):\n",
        "    \"\"\"\n",
        "    This function is used to perdict the results of a neural network.\n",
        "\n",
        "    Arguments:\n",
        "    X -- data set of examples you would like to label\n",
        "    parameters -- parameters of the trained model\n",
        "\n",
        "    Returns:\n",
        "    probas -- The output of the vectors of probablities\n",
        "    p -- Predictions of the given dataset X\n",
        "    \"\"\"\n",
        "\n",
        "    m = X.shape[1]\n",
        "    n = len(parameters) // 2        # number of layers in the neural network\n",
        "    p = np.zeros((1, m))\n",
        "\n",
        "    # FORWARD PROPAGATION\n",
        "    probas, caches = model_forward(X, parameters)\n",
        "\n",
        "    # CONVERT PROBAS TO 0/1 PREDICTIONS\n",
        "    check = np.argmax(probas, axis = 0)\n",
        "    for i in range(0, probas.shape[1]):\n",
        "        if check[i] == y[i]:\n",
        "            p[0, i] = 1\n",
        "        else:\n",
        "            p[0, i] = 0\n",
        "    \n",
        "    print(\"Accuracy: \" + str(np.sum(p)/m))\n",
        "\n",
        "    return p, probas"
      ],
      "outputs": [],
      "metadata": {
        "id": "kk5owID4g_Zr"
      }
    },
    {
      "cell_type": "code",
      "execution_count": 9,
      "source": [],
      "outputs": [],
      "metadata": {
        "id": "5lA3SiwQg_Zt"
      }
    },
    {
      "cell_type": "code",
      "execution_count": 9,
      "source": [],
      "outputs": [],
      "metadata": {
        "id": "Qv1-Cehzg_Zu"
      }
    },
    {
      "cell_type": "markdown",
      "source": [
        "## Load Dataset, preprocess it, make it into desired shape"
      ],
      "metadata": {
        "id": "7hWkhJKug_Zu"
      }
    },
    {
      "cell_type": "code",
      "execution_count": 10,
      "source": [
        "# Fetch MNIST data\n",
        "path = '/content/'\n",
        "\n",
        "def fetch(url):\n",
        "    fp = os.path.join(path, hashlib.md5(url.encode('utf-8')).hexdigest())\n",
        "    if os.path.isfile(fp):\n",
        "        with open(fp, \"rb\") as f:\n",
        "            data = f.read()\n",
        "    else:\n",
        "        with open(fp, \"wb\") as f:\n",
        "            data = requests.get(url).content\n",
        "            f.write(data)\n",
        "    return np.frombuffer(gzip.decompress(data), dtype = np.uint8).copy()\n",
        "\n",
        "X_train = fetch(\"http://yann.lecun.com/exdb/mnist/train-images-idx3-ubyte.gz\")[0x10:].reshape((-1, 28, 28))\n",
        "Y_train = fetch(\"http://yann.lecun.com/exdb/mnist/train-labels-idx1-ubyte.gz\")[8:]\n",
        "X_test = fetch(\"http://yann.lecun.com/exdb/mnist/t10k-images-idx3-ubyte.gz\")[0x10:].reshape((-1, 28*28))\n",
        "Y_test = fetch(\"http://yann.lecun.com/exdb/mnist/t10k-labels-idx1-ubyte.gz\")[8:]"
      ],
      "outputs": [],
      "metadata": {
        "id": "s3AUaTfog_Zz"
      }
    },
    {
      "cell_type": "code",
      "execution_count": 11,
      "source": [
        "# Explore the dataset\n",
        "# print(X_train.shape)\n",
        "m_train = X_train.shape[0]\n",
        "num_px = X_train.shape[1]\n",
        "m_test = X_test.shape[0]\n",
        "\n",
        "print('Number of training examples: ' + str(m_train))\n",
        "print('Number of testing examples: ' + str(m_test))\n",
        "print('Each image is of siz: (' + str(num_px) + \",\" + str(num_px) + \")\")\n",
        "print(\"X_train shape: \" + str(X_train.shape))\n",
        "print(\"Y_train shape: \" + str(Y_train.shape))\n",
        "print(\"X_test shape: \" + str(X_test.shape))\n",
        "print(\"Y_test shape: \" + str(Y_test.shape))"
      ],
      "outputs": [
        {
          "output_type": "stream",
          "name": "stdout",
          "text": [
            "Number of training examples: 60000\n",
            "Number of testing examples: 10000\n",
            "Each image is of siz: (28,28)\n",
            "X_train shape: (60000, 28, 28)\n",
            "Y_train shape: (60000,)\n",
            "X_test shape: (10000, 784)\n",
            "Y_test shape: (10000,)\n"
          ]
        }
      ],
      "metadata": {
        "colab": {
          "base_uri": "https://localhost:8080/"
        },
        "id": "_vFxeZH5g_Z0",
        "outputId": "bbb6b4e0-bef9-47d4-852a-ef836c6ea041"
      }
    },
    {
      "cell_type": "code",
      "execution_count": 12,
      "source": [
        "# Reshape the training and test set\n",
        "X_train_flatten = X_train.reshape(X_train.shape[0], -1).T\n",
        "X_test_flatten = X_test.reshape(X_test.shape[0], -1).T\n",
        "\n",
        "# Standardize data to have feature values between 0 and 1\n",
        "X_train = X_train_flatten / 255.\n",
        "X_test = X_test_flatten / 255.\n",
        "\n",
        "print('X_train shape: ' + str(X_train.shape))\n",
        "print('X_test shape: ' + str(X_test.shape))"
      ],
      "outputs": [
        {
          "output_type": "stream",
          "name": "stdout",
          "text": [
            "X_train shape: (784, 60000)\n",
            "X_test shape: (784, 10000)\n"
          ]
        }
      ],
      "metadata": {
        "colab": {
          "base_uri": "https://localhost:8080/"
        },
        "id": "uvCRHQzXg_Z1",
        "outputId": "7794e094-9473-4c9f-cbd3-cae0da074656"
      }
    },
    {
      "cell_type": "code",
      "execution_count": 13,
      "source": [
        "Y_train"
      ],
      "outputs": [
        {
          "output_type": "execute_result",
          "data": {
            "text/plain": [
              "array([5, 0, 4, ..., 5, 6, 8], dtype=uint8)"
            ]
          },
          "metadata": {},
          "execution_count": 13
        }
      ],
      "metadata": {
        "colab": {
          "base_uri": "https://localhost:8080/"
        },
        "id": "X_wocYBIg_Z3",
        "outputId": "ab01d0e9-3adc-45ab-d5a3-3076483840fd"
      }
    },
    {
      "cell_type": "markdown",
      "source": [
        "The Y_train and the Y_test are the list of integers. But the final layer of our neural network has 10 nodes with softmax as the activation function. So we need to convert the Y_train and Y_test to one hot encoded form of length 10. This will ensure that the ith index has 1 corresponding to the number. \n",
        "\n",
        "e.g. 6 will be represented as:\n",
        "[0, 0, 0, 0, 0, 0, 1, 0, 0, 0]"
      ],
      "metadata": {
        "id": "TsuDEIxGg_Z3"
      }
    },
    {
      "cell_type": "code",
      "execution_count": 14,
      "source": [
        "# Reshape the training and test set Y\n",
        "train_y = np.zeros((10, 60000))\n",
        "for i, y in enumerate(Y_train):\n",
        "    train_y[y][i] = 1\n",
        "\n",
        "test_y = np.zeros((10, 10000))\n",
        "for i, y in enumerate(Y_test):\n",
        "    test_y[y][i] = 1"
      ],
      "outputs": [],
      "metadata": {
        "id": "Da9QuIATg_Z4"
      }
    },
    {
      "cell_type": "code",
      "execution_count": 15,
      "source": [
        "print(train_y.shape)\n",
        "print(test_y.shape)"
      ],
      "outputs": [
        {
          "output_type": "stream",
          "name": "stdout",
          "text": [
            "(10, 60000)\n",
            "(10, 10000)\n"
          ]
        }
      ],
      "metadata": {
        "colab": {
          "base_uri": "https://localhost:8080/"
        },
        "id": "48MIkplVg_Z4",
        "outputId": "04c171ef-cf5f-441a-efe7-96920e69c1f7"
      }
    },
    {
      "cell_type": "code",
      "execution_count": 16,
      "source": [
        "# Print first 10 Y_train and the encoded matrix\n",
        "print(Y_train[:10])\n",
        "print(train_y[:, :10])"
      ],
      "outputs": [
        {
          "output_type": "stream",
          "name": "stdout",
          "text": [
            "[5 0 4 1 9 2 1 3 1 4]\n",
            "[[0. 1. 0. 0. 0. 0. 0. 0. 0. 0.]\n",
            " [0. 0. 0. 1. 0. 0. 1. 0. 1. 0.]\n",
            " [0. 0. 0. 0. 0. 1. 0. 0. 0. 0.]\n",
            " [0. 0. 0. 0. 0. 0. 0. 1. 0. 0.]\n",
            " [0. 0. 1. 0. 0. 0. 0. 0. 0. 1.]\n",
            " [1. 0. 0. 0. 0. 0. 0. 0. 0. 0.]\n",
            " [0. 0. 0. 0. 0. 0. 0. 0. 0. 0.]\n",
            " [0. 0. 0. 0. 0. 0. 0. 0. 0. 0.]\n",
            " [0. 0. 0. 0. 0. 0. 0. 0. 0. 0.]\n",
            " [0. 0. 0. 0. 1. 0. 0. 0. 0. 0.]]\n"
          ]
        }
      ],
      "metadata": {
        "colab": {
          "base_uri": "https://localhost:8080/"
        },
        "id": "uEl_3Xlrg_Z5",
        "outputId": "2fb3ffdd-be26-4d4a-bd20-de3c898190fe"
      }
    },
    {
      "cell_type": "code",
      "execution_count": 17,
      "source": [
        "# Print first 10 Y_test and the encoded matrix\n",
        "print(Y_test[:10])\n",
        "print(test_y[:, :10])"
      ],
      "outputs": [
        {
          "output_type": "stream",
          "name": "stdout",
          "text": [
            "[7 2 1 0 4 1 4 9 5 9]\n",
            "[[0. 0. 0. 1. 0. 0. 0. 0. 0. 0.]\n",
            " [0. 0. 1. 0. 0. 1. 0. 0. 0. 0.]\n",
            " [0. 1. 0. 0. 0. 0. 0. 0. 0. 0.]\n",
            " [0. 0. 0. 0. 0. 0. 0. 0. 0. 0.]\n",
            " [0. 0. 0. 0. 1. 0. 1. 0. 0. 0.]\n",
            " [0. 0. 0. 0. 0. 0. 0. 0. 1. 0.]\n",
            " [0. 0. 0. 0. 0. 0. 0. 0. 0. 0.]\n",
            " [1. 0. 0. 0. 0. 0. 0. 0. 0. 0.]\n",
            " [0. 0. 0. 0. 0. 0. 0. 0. 0. 0.]\n",
            " [0. 0. 0. 0. 0. 0. 0. 1. 0. 1.]]\n"
          ]
        }
      ],
      "metadata": {
        "colab": {
          "base_uri": "https://localhost:8080/"
        },
        "id": "w5L47U0Dg_Z6",
        "outputId": "b0a5d56c-eda3-43d2-849e-ff50ea0fbf5b"
      }
    },
    {
      "cell_type": "markdown",
      "source": [
        "### Layout of the model\n",
        "The model consists of 2 layers(3 including the input layer).\n",
        "- Input layer: 28*28 image flattened making 784 nodes in the input layer\n",
        "- Hidden layer: Taking 128 nodes in the hidden layer\n",
        "- Output layer: 10 outputs with softmax activation\n",
        "\n",
        "The model looks something like this:\n",
        "\n",
        "\n",
        "LINEAR --> RELU(ACTIVATION) --> LINEAR --> SOFTMAX(ACTIVATION)"
      ],
      "metadata": {
        "id": "JwcQO4WLg_Z7"
      }
    },
    {
      "cell_type": "code",
      "execution_count": 18,
      "source": [
        "# CONSTANTS DEFINING THE MODEL\n",
        "n_x = 784   # number of input nodes\n",
        "n_h = 128   # number of hidden nodes\n",
        "n_y = 10    # number of output nodes\n",
        "\n",
        "layer_dims = (n_x, n_h, n_y)"
      ],
      "outputs": [],
      "metadata": {
        "id": "zJ8jS0Rng_Z7"
      }
    },
    {
      "cell_type": "code",
      "execution_count": 19,
      "source": [
        "def model(X, Y, layer_dims, learning_rate = 0.01, num_iterations = 1000, print_cost = False):\n",
        "\n",
        "    np.random.seed(1)\n",
        "    grads = {}\n",
        "    costs = []          # to keep track of cost\n",
        "    m = X.shape[1]      # number of examples\n",
        "    (n_x, n_h, n_y) = layer_dims\n",
        "\n",
        "    # Initialize parameters dictionary\n",
        "    parameters = initialize_parameters(n_x, n_h, n_y)\n",
        "\n",
        "    W1 = parameters['W1']\n",
        "    b1 = parameters['b1']\n",
        "    W2 = parameters['W2']\n",
        "    b2 = parameters['b2']\n",
        "\n",
        "    for i in range(0, num_iterations):\n",
        "        # FORWARD PROPAGATION\n",
        "        # LINEAR --> RELU --> LINEAR --> SOFTMAX\n",
        "        A1, cache1 = linear_activation_forward(X, W1, b1, activation=\"relu\")\n",
        "        A2, cache2 = linear_activation_forward(A1, W2, b2, activation=\"softmax\")\n",
        "\n",
        "        # COMPUTE COST\n",
        "        cost = compute_cost(A2, Y)\n",
        "\n",
        "        # INITIALIZING BACKWARD PROPAGATION\n",
        "        dA2 = - (np.divide(Y, A2) - np.divide(1 - Y, 1 - A2))\n",
        "\n",
        "        # BACKWARD PROPAGATION\n",
        "        dA1, dW2, db2 = linear_activation_backward(dA2, cache2, activation=\"softmax\")\n",
        "        dA0, dW1, db1 = linear_activation_backward(dA1, cache1, activation=\"relu\")\n",
        "\n",
        "        grads[\"dW1\"] = dW1\n",
        "        grads[\"db1\"] = db1\n",
        "        grads[\"dW2\"] = dW2\n",
        "        grads[\"db2\"] = db2\n",
        "        \n",
        "        # UPDATE PARAMETERS\n",
        "        parameters = update_parameters(parameters, grads, learning_rate)\n",
        "\n",
        "        # RETRIEVE W1, b1, W2, b2 from parameters\n",
        "        W1 = parameters[\"W1\"]\n",
        "        b1 = parameters[\"b1\"]\n",
        "        W2 = parameters[\"W2\"]\n",
        "        b2 = parameters[\"b2\"]\n",
        "\n",
        "        # PRINT THE COST EVERY 50 TRAINING EXAMPLE\n",
        "        if print_cost and i%50 == 0:\n",
        "            print('Cost after iteration {}: {}'.format(i, np.squeeze(cost)))\n",
        "        if print_cost and i%50 == 0:\n",
        "            costs.append(cost)\n",
        "    \n",
        "    # PLOT THE COST\n",
        "    plt.plot(np.squeeze(costs))\n",
        "    plt.xlabel('Iterations (per fifty)')\n",
        "    plt.ylabel('Cost')\n",
        "    plt.title('Learning rate = ' + str(learning_rate))\n",
        "    plt.show()\n",
        "\n",
        "    return parameters"
      ],
      "outputs": [],
      "metadata": {
        "id": "eqaZ8SGeg_Z7"
      }
    },
    {
      "cell_type": "code",
      "execution_count": 20,
      "source": [
        "# TRAINING THE MODELS AND SAVING THE PARAMETERS\n",
        "parameters = model(X_train, train_y, layer_dims=(n_x, n_h, n_y), num_iterations=3000, print_cost=True)"
      ],
      "outputs": [
        {
          "output_type": "stream",
          "name": "stdout",
          "text": [
            "Cost after iteration 0: 0.4499763042674335\n",
            "Cost after iteration 50: 0.44938039479672837\n",
            "Cost after iteration 100: 0.44864485258287756\n",
            "Cost after iteration 150: 0.447613825013837\n",
            "Cost after iteration 200: 0.44608789363912127\n",
            "Cost after iteration 250: 0.44379413659836453\n",
            "Cost after iteration 300: 0.44034603019926\n",
            "Cost after iteration 350: 0.4352063154122122\n",
            "Cost after iteration 400: 0.4277132728787733\n",
            "Cost after iteration 450: 0.4172615904584523\n",
            "Cost after iteration 500: 0.40355289388067894\n",
            "Cost after iteration 550: 0.3866360146268962\n",
            "Cost after iteration 600: 0.3668033249862718\n",
            "Cost after iteration 650: 0.3447026163333163\n",
            "Cost after iteration 700: 0.3214797301928966\n",
            "Cost after iteration 750: 0.2985160754401052\n",
            "Cost after iteration 800: 0.2768985245021714\n",
            "Cost after iteration 850: 0.2571884035651801\n",
            "Cost after iteration 900: 0.2395583128313595\n",
            "Cost after iteration 950: 0.22397291295370425\n",
            "Cost after iteration 1000: 0.21029009668874346\n",
            "Cost after iteration 1050: 0.19831751486210192\n",
            "Cost after iteration 1100: 0.18784556484901063\n",
            "Cost after iteration 1150: 0.1786691936647517\n",
            "Cost after iteration 1200: 0.1706001910708625\n",
            "Cost after iteration 1250: 0.16347262322980058\n",
            "Cost after iteration 1300: 0.15714435081602263\n",
            "Cost after iteration 1350: 0.1514948654472616\n",
            "Cost after iteration 1400: 0.14642398503538476\n",
            "Cost after iteration 1450: 0.14184848634015337\n",
            "Cost after iteration 1500: 0.13769882113787948\n",
            "Cost after iteration 1550: 0.13391758639572787\n",
            "Cost after iteration 1600: 0.1304569942411182\n",
            "Cost after iteration 1650: 0.1272772085980506\n",
            "Cost after iteration 1700: 0.12434481635928316\n",
            "Cost after iteration 1750: 0.12163164328665811\n",
            "Cost after iteration 1800: 0.11911402054125333\n",
            "Cost after iteration 1850: 0.11677139855061273\n",
            "Cost after iteration 1900: 0.11458659741423752\n",
            "Cost after iteration 1950: 0.11254472520315068\n",
            "Cost after iteration 2000: 0.11063250497602742\n",
            "Cost after iteration 2050: 0.10883855657529724\n",
            "Cost after iteration 2100: 0.10715275987778677\n",
            "Cost after iteration 2150: 0.10556613829255457\n",
            "Cost after iteration 2200: 0.10407085077933353\n",
            "Cost after iteration 2250: 0.10265957571871914\n",
            "Cost after iteration 2300: 0.10132594640945368\n",
            "Cost after iteration 2350: 0.10006398410679337\n",
            "Cost after iteration 2400: 0.09886820795124139\n",
            "Cost after iteration 2450: 0.09773414268213902\n",
            "Cost after iteration 2500: 0.09665725849903022\n",
            "Cost after iteration 2550: 0.09563346266084517\n",
            "Cost after iteration 2600: 0.0946589809307465\n",
            "Cost after iteration 2650: 0.09373072501452093\n",
            "Cost after iteration 2700: 0.09284539584593972\n",
            "Cost after iteration 2750: 0.09200015692884066\n",
            "Cost after iteration 2800: 0.09119236904640045\n",
            "Cost after iteration 2850: 0.09041962516337931\n",
            "Cost after iteration 2900: 0.08967959180140529\n",
            "Cost after iteration 2950: 0.08897010292827032\n"
          ]
        },
        {
          "output_type": "display_data",
          "data": {
            "text/plain": [
              "<Figure size 432x288 with 1 Axes>"
            ],
            "image/png": "[encoded data removed]"
          },
          "metadata": {
            "needs_background": "light"
          }
        }
      ],
      "metadata": {
        "colab": {
          "base_uri": "https://localhost:8080/",
          "height": 1000
        },
        "id": "Ad55loPZg_Z8",
        "outputId": "f7a0666c-3bdc-455a-e0df-c3eed474aa8a"
      }
    },
    {
      "cell_type": "code",
      "execution_count": 82,
      "source": [
        "# ACCURACY ON THE TRAINING SET \n",
        "prediction_test, train_probas = predict(X_train, Y_train, parameters)"
      ],
      "outputs": [
        {
          "output_type": "stream",
          "name": "stdout",
          "text": [
            "Accuracy: 0.8905666666666666\n"
          ]
        }
      ],
      "metadata": {
        "colab": {
          "base_uri": "https://localhost:8080/"
        },
        "id": "V5Bc7vNlg_Z9",
        "outputId": "78f90787-51c6-4bcb-e61d-064fe44299f3"
      }
    },
    {
      "cell_type": "code",
      "execution_count": 83,
      "source": [
        "# ACCURACY ON THE TEST SET\n",
        "prediction_test, test_probas = predict(X_test, Y_test, parameters)"
      ],
      "outputs": [
        {
          "output_type": "stream",
          "name": "stdout",
          "text": [
            "Accuracy: 0.8958\n"
          ]
        }
      ],
      "metadata": {
        "colab": {
          "base_uri": "https://localhost:8080/"
        },
        "id": "6jigpJcIg_Z9",
        "outputId": "5b665afa-8dfa-4aee-a51c-464fc01a25ea"
      }
    },
    {
      "cell_type": "markdown",
      "source": [
        "## Checking the model with the test inputs\n",
        "\n",
        "Here we can see that the eigth element in the output array has the maximum probability of 0.98515, which means the digit is 7 (indexing starting from 0 to 9). Plotting the image of the same first input in the test set. The image below confirms that the number in the image is indeed 7."
      ],
      "metadata": {
        "id": "YhcTxlQTg_Z9"
      }
    },
    {
      "cell_type": "code",
      "execution_count": 84,
      "source": [
        "# checking the first output in the test set\n",
        "test_probas[:, 0]"
      ],
      "outputs": [
        {
          "output_type": "execute_result",
          "data": {
            "text/plain": [
              "array([3.90916742e-04, 1.56743999e-06, 1.42322737e-04, 1.26405000e-03,\n",
              "       5.69609031e-05, 1.24897183e-04, 1.28261730e-06, 9.85157167e-01,\n",
              "       1.86806409e-04, 1.26740285e-02])"
            ]
          },
          "metadata": {},
          "execution_count": 84
        }
      ],
      "metadata": {
        "colab": {
          "base_uri": "https://localhost:8080/"
        },
        "id": "yYdn-t9Qg_Z-",
        "outputId": "f76b1dea-5ecd-449b-a6d9-fec17ed62b23"
      }
    },
    {
      "cell_type": "code",
      "execution_count": 85,
      "source": [
        "# plotting the first input of the test set\n",
        "imshow((X_test[:, 0].reshape(28,28)));"
      ],
      "outputs": [
        {
          "output_type": "display_data",
          "data": {
            "text/plain": [
              "<Figure size 432x288 with 1 Axes>"
            ],
            "image/png": "[encoded data removed]"
          },
          "metadata": {
            "needs_background": "light"
          }
        }
      ],
      "metadata": {
        "colab": {
          "base_uri": "https://localhost:8080/",
          "height": 265
        },
        "id": "PVruFrBGg_Z-",
        "outputId": "a399937e-4e52-4325-a789-5ac30b001256"
      }
    },
    {
      "cell_type": "code",
      "execution_count": 85,
      "source": [],
      "outputs": [],
      "metadata": {
        "id": "bh9NGHUng_Z_"
      }
    },
    {
      "cell_type": "markdown",
      "source": [
        "Here we can see that the third element in the output array has the maximum probability of 0.7435, which means the digit is 2. The second highest probability is for the 6, with the value equal to 0.149, about 15%. This might be because of the straight line going diagonally which is kind of similar for the digit 2 and 6. Since both of the digits resemble a little due to their shared characteristics, it is showing 15% chances of the number being 6."
      ],
      "metadata": {
        "id": "9LU81_0wWiV7"
      }
    },
    {
      "cell_type": "code",
      "execution_count": 86,
      "source": [
        "# checking the second output  in the test set\n",
        "test_probas[:, 1]"
      ],
      "outputs": [
        {
          "output_type": "execute_result",
          "data": {
            "text/plain": [
              "array([2.18202037e-02, 2.29138506e-04, 7.43525885e-01, 3.69118687e-02,\n",
              "       7.63664673e-06, 2.76262836e-02, 1.49086355e-01, 1.06716500e-06,\n",
              "       2.07862509e-02, 5.31064604e-06])"
            ]
          },
          "metadata": {},
          "execution_count": 86
        }
      ],
      "metadata": {
        "colab": {
          "base_uri": "https://localhost:8080/"
        },
        "id": "leYBmIi1g_Z_",
        "outputId": "5eba82b4-b5bd-4253-8663-9900da508298"
      }
    },
    {
      "cell_type": "code",
      "execution_count": 87,
      "source": [
        "# plotting the second input of the test set\n",
        "imshow((X_test[:, 1].reshape(28,28)));"
      ],
      "outputs": [
        {
          "output_type": "display_data",
          "data": {
            "text/plain": [
              "<Figure size 432x288 with 1 Axes>"
            ],
            "image/png": "[encoded data removed]"
          },
          "metadata": {
            "needs_background": "light"
          }
        }
      ],
      "metadata": {
        "colab": {
          "base_uri": "https://localhost:8080/",
          "height": 265
        },
        "id": "TOhhRzNyg_Z_",
        "outputId": "137ba360-103b-45ba-d7b1-0f8d68e7bd68"
      }
    },
    {
      "cell_type": "code",
      "execution_count": 87,
      "source": [],
      "outputs": [],
      "metadata": {
        "id": "rfnVdr_jg_aA"
      }
    },
    {
      "cell_type": "code",
      "execution_count": 88,
      "source": [
        "# checking the 99th output  in the test set \n",
        "# ---> 0.9293 PROBABILITY THAT THE DIGIT IS 6 (MAXIMUM VALUE AT INDEX 7)\n",
        "test_probas[:, 98]"
      ],
      "outputs": [
        {
          "output_type": "execute_result",
          "data": {
            "text/plain": [
              "array([3.53076520e-02, 3.87123212e-06, 1.96615881e-02, 5.15492135e-05,\n",
              "       6.02365850e-04, 1.19056254e-02, 9.29384770e-01, 2.44565354e-06,\n",
              "       3.03555900e-03, 4.45734732e-05])"
            ]
          },
          "metadata": {},
          "execution_count": 88
        }
      ],
      "metadata": {
        "colab": {
          "base_uri": "https://localhost:8080/"
        },
        "id": "gIQH6ZKFX_l0",
        "outputId": "60f11b7a-9e33-4447-e28a-30147f2bef37"
      }
    },
    {
      "cell_type": "code",
      "execution_count": 89,
      "source": [
        "# plotting the 99th input of the test set\n",
        "imshow((X_test[:, 98].reshape(28,28)));"
      ],
      "outputs": [
        {
          "output_type": "display_data",
          "data": {
            "text/plain": [
              "<Figure size 432x288 with 1 Axes>"
            ],
            "image/png": "[encoded data removed]"
          },
          "metadata": {
            "needs_background": "light"
          }
        }
      ],
      "metadata": {
        "colab": {
          "base_uri": "https://localhost:8080/",
          "height": 265
        },
        "id": "-Jk4xzg7X_fm",
        "outputId": "8e2886f8-a91f-496b-fc4f-0de0d54a060a"
      }
    },
    {
      "cell_type": "code",
      "execution_count": 89,
      "source": [],
      "outputs": [],
      "metadata": {
        "id": "jJoh_36IX_c0"
      }
    },
    {
      "cell_type": "markdown",
      "source": [
        "Here we can see that the 100th element in the output array has the maximum probability of 0.9263 at the 10th position of the array, which means the digit is 9. And the model is correct in classifying this digit"
      ],
      "metadata": {
        "id": "bdh40m0WXRPK"
      }
    },
    {
      "cell_type": "code",
      "execution_count": 90,
      "source": [
        "# checking the 100th output  in the test set\n",
        "test_probas[:, 99]"
      ],
      "outputs": [
        {
          "output_type": "execute_result",
          "data": {
            "text/plain": [
              "array([3.51546988e-06, 1.07801388e-06, 4.68355911e-04, 1.28550259e-04,\n",
              "       3.18234061e-02, 1.83332686e-05, 2.35397749e-05, 3.95089373e-02,\n",
              "       1.67931735e-03, 9.26344967e-01])"
            ]
          },
          "metadata": {},
          "execution_count": 90
        }
      ],
      "metadata": {
        "colab": {
          "base_uri": "https://localhost:8080/"
        },
        "id": "z9BuQNDrg_aA",
        "outputId": "3d68e31f-e28c-400e-e687-d3e54641cbb1"
      }
    },
    {
      "cell_type": "code",
      "execution_count": 91,
      "source": [
        "# plotting the 100th input of the test set\n",
        "imshow((X_test[:, 99].reshape(28,28)));"
      ],
      "outputs": [
        {
          "output_type": "display_data",
          "data": {
            "text/plain": [
              "<Figure size 432x288 with 1 Axes>"
            ],
            "image/png": "[encoded data removed]"
          },
          "metadata": {
            "needs_background": "light"
          }
        }
      ],
      "metadata": {
        "colab": {
          "base_uri": "https://localhost:8080/",
          "height": 265
        },
        "id": "iC1wI9GRg_aA",
        "outputId": "6f148c6d-cbf6-4e4b-86fb-a87e1ccb8d6d"
      }
    },
    {
      "cell_type": "code",
      "execution_count": 91,
      "source": [],
      "outputs": [],
      "metadata": {
        "id": "HpXkbNAJYVHa"
      }
    },
    {
      "cell_type": "code",
      "execution_count": 92,
      "source": [
        "# checking the 101th output  in the test set \n",
        "# ---> 0.8277 PROBABILITY THAT THE DIGIT IS 6 (MAXIMUM VALUE AT INDEX 7)\n",
        "# ---> 0.1005 PROBABILITY THAT THE DIGIT IS 2 (SECOND MAXIMUM VALUE AT INDEX 2)\n",
        "test_probas[:, 100]"
      ],
      "outputs": [
        {
          "output_type": "execute_result",
          "data": {
            "text/plain": [
              "array([3.09021062e-03, 1.76694727e-03, 1.00577632e-01, 1.13913684e-03,\n",
              "       3.80583809e-02, 3.98703033e-03, 8.27750387e-01, 7.58547769e-04,\n",
              "       1.77004429e-02, 5.17128398e-03])"
            ]
          },
          "metadata": {},
          "execution_count": 92
        }
      ],
      "metadata": {
        "colab": {
          "base_uri": "https://localhost:8080/"
        },
        "id": "_xQUMejcYU8I",
        "outputId": "5fd0e0c9-cbd6-4a6b-f444-376526d1de36"
      }
    },
    {
      "cell_type": "code",
      "execution_count": 93,
      "source": [
        "# plotting the 101th input of the test set\n",
        "imshow((X_test[:, 100].reshape(28,28)));"
      ],
      "outputs": [
        {
          "output_type": "display_data",
          "data": {
            "text/plain": [
              "<Figure size 432x288 with 1 Axes>"
            ],
            "image/png": "[encoded data removed]"
          },
          "metadata": {
            "needs_background": "light"
          }
        }
      ],
      "metadata": {
        "colab": {
          "base_uri": "https://localhost:8080/",
          "height": 265
        },
        "id": "_MpQ_P0UYU6P",
        "outputId": "8758f383-467e-4ce1-e9cc-859453d8973c"
      }
    },
    {
      "cell_type": "code",
      "execution_count": 93,
      "source": [],
      "outputs": [],
      "metadata": {
        "id": "0etVgWa2g_aA"
      }
    },
    {
      "cell_type": "markdown",
      "source": [
        "In this case below, the model has made a wrong classification.\n",
        "The maximum probability is for the digit 9, the value being 0.4779.\n",
        "Although the model did try to predict that the digit shown was 8 because of the similarity in the way that the digit has been written, because the probability for the digit 8 is 0.2281."
      ],
      "metadata": {
        "id": "ax4BqBDUaQJj"
      }
    },
    {
      "cell_type": "code",
      "execution_count": 94,
      "source": [
        "# checking the 999th output  in the test set\n",
        "test_probas[:, 998]"
      ],
      "outputs": [
        {
          "output_type": "execute_result",
          "data": {
            "text/plain": [
              "array([4.63805227e-03, 1.90757848e-06, 1.43717188e-03, 1.08093361e-03,\n",
              "       7.45536218e-02, 1.61467496e-01, 2.67762587e-02, 2.39670298e-02,\n",
              "       2.28145991e-01, 4.77931537e-01])"
            ]
          },
          "metadata": {},
          "execution_count": 94
        }
      ],
      "metadata": {
        "colab": {
          "base_uri": "https://localhost:8080/"
        },
        "id": "-_sJnlDmaDsV",
        "outputId": "f912ece0-248c-4169-e147-9896dfd16644"
      }
    },
    {
      "cell_type": "code",
      "execution_count": 95,
      "source": [
        "# plotting the 999th input of the test set\n",
        "imshow((X_test[:, 998].reshape(28,28)));"
      ],
      "outputs": [
        {
          "output_type": "display_data",
          "data": {
            "text/plain": [
              "<Figure size 432x288 with 1 Axes>"
            ],
            "image/png": "[encoded data removed]"
          },
          "metadata": {
            "needs_background": "light"
          }
        }
      ],
      "metadata": {
        "colab": {
          "base_uri": "https://localhost:8080/",
          "height": 265
        },
        "id": "k3GBO0tdaDp2",
        "outputId": "b3e9b6ce-b254-4aed-b479-1d49a663db0d"
      }
    },
    {
      "cell_type": "code",
      "execution_count": 95,
      "source": [],
      "outputs": [],
      "metadata": {
        "id": "1nFJQa_CaDmp"
      }
    },
    {
      "cell_type": "code",
      "execution_count": 96,
      "source": [
        "# checking the 1000th output  in the test set\n",
        "test_probas[:, 999]"
      ],
      "outputs": [
        {
          "output_type": "execute_result",
          "data": {
            "text/plain": [
              "array([9.68741247e-04, 4.42288842e-05, 8.84372065e-03, 1.04422644e-02,\n",
              "       1.30766462e-01, 1.56956884e-03, 8.51577558e-04, 3.09252246e-01,\n",
              "       4.75733743e-03, 5.32503853e-01])"
            ]
          },
          "metadata": {},
          "execution_count": 96
        }
      ],
      "metadata": {
        "colab": {
          "base_uri": "https://localhost:8080/"
        },
        "id": "2OjRLtirg_aB",
        "outputId": "7ea00452-8e82-4aef-cfe2-9994b03f45b4"
      }
    },
    {
      "cell_type": "code",
      "execution_count": 97,
      "source": [
        "# plotting the 1000th input of the test set\n",
        "imshow((X_test[:, 999].reshape(28,28)));"
      ],
      "outputs": [
        {
          "output_type": "display_data",
          "data": {
            "text/plain": [
              "<Figure size 432x288 with 1 Axes>"
            ],
            "image/png": "[encoded data removed]"
          },
          "metadata": {
            "needs_background": "light"
          }
        }
      ],
      "metadata": {
        "colab": {
          "base_uri": "https://localhost:8080/",
          "height": 265
        },
        "id": "Ur95H9qSg_aB",
        "outputId": "974d58e7-260d-42a9-8ca0-b57499007a2b"
      }
    },
    {
      "cell_type": "code",
      "execution_count": 97,
      "source": [],
      "outputs": [],
      "metadata": {
        "id": "JNT3lJOug_aB"
      }
    },
    {
      "cell_type": "markdown",
      "source": [
        "In this case below, the model has made a wrong classification.\n",
        "The maximum probability is for the digit 7, the value being 0.6369.\n",
        "Although the model did try to predict that the digit shown was 9, because its probability is 0.3232. This confusion might have been because of the resemblance between digit 7 and 9, which we can observe in some handwritings of different people."
      ],
      "metadata": {
        "id": "8PxyMU-fZe5u"
      }
    },
    {
      "cell_type": "code",
      "execution_count": 98,
      "source": [
        "# checking the 1001th output  in the test set\n",
        "test_probas[:, 1000]"
      ],
      "outputs": [
        {
          "output_type": "execute_result",
          "data": {
            "text/plain": [
              "array([1.73262622e-05, 8.65941317e-04, 3.11797004e-04, 2.96299324e-02,\n",
              "       4.60249697e-03, 1.25225437e-03, 2.07637537e-05, 6.36930436e-01,\n",
              "       3.10414662e-03, 3.23264906e-01])"
            ]
          },
          "metadata": {},
          "execution_count": 98
        }
      ],
      "metadata": {
        "colab": {
          "base_uri": "https://localhost:8080/"
        },
        "id": "CX73DrOSYxfd",
        "outputId": "49d1ec2b-e555-4dc7-e1f9-3c6825238bb7"
      }
    },
    {
      "cell_type": "code",
      "execution_count": 99,
      "source": [
        "# plotting the 1001th input of the test set\n",
        "imshow((X_test[:, 1000].reshape(28,28)));"
      ],
      "outputs": [
        {
          "output_type": "display_data",
          "data": {
            "text/plain": [
              "<Figure size 432x288 with 1 Axes>"
            ],
            "image/png": "[encoded data removed]"
          },
          "metadata": {
            "needs_background": "light"
          }
        }
      ],
      "metadata": {
        "colab": {
          "base_uri": "https://localhost:8080/",
          "height": 265
        },
        "id": "t_Ie0-gVYxdQ",
        "outputId": "7a1904bc-0960-4934-def7-3c5f8608ff5b"
      }
    },
    {
      "cell_type": "code",
      "execution_count": 99,
      "source": [],
      "outputs": [],
      "metadata": {
        "id": "syIMw8CKYxYa"
      }
    },
    {
      "cell_type": "code",
      "execution_count": 100,
      "source": [
        "# checking the 9000th output  in the test set\n",
        "# correct classification of the digit zero(0) ----> PROBABILITY = 0.991\n",
        "test_probas[:, 8999]"
      ],
      "outputs": [
        {
          "output_type": "execute_result",
          "data": {
            "text/plain": [
              "array([9.91491489e-01, 7.64015506e-10, 2.49349785e-05, 3.30077162e-05,\n",
              "       1.70845041e-07, 8.37539406e-03, 6.06919779e-05, 2.39266184e-06,\n",
              "       1.09250585e-05, 9.93172174e-07])"
            ]
          },
          "metadata": {},
          "execution_count": 100
        }
      ],
      "metadata": {
        "colab": {
          "base_uri": "https://localhost:8080/"
        },
        "id": "tNtIpJBganQ4",
        "outputId": "cf1a8d16-c582-4bbd-ff27-90bcaf34e722"
      }
    },
    {
      "cell_type": "code",
      "execution_count": 101,
      "source": [
        "# plotting the 9000th input of the test set\n",
        "imshow((X_test[:, 8999].reshape(28,28)));"
      ],
      "outputs": [
        {
          "output_type": "display_data",
          "data": {
            "text/plain": [
              "<Figure size 432x288 with 1 Axes>"
            ],
            "image/png": "[encoded data removed]"
          },
          "metadata": {
            "needs_background": "light"
          }
        }
      ],
      "metadata": {
        "colab": {
          "base_uri": "https://localhost:8080/",
          "height": 265
        },
        "id": "zXG_CK9ranOV",
        "outputId": "9ca4f8c4-f0b0-47d9-ae0e-ebdbb2a1e018"
      }
    },
    {
      "cell_type": "code",
      "execution_count": 101,
      "source": [],
      "outputs": [],
      "metadata": {
        "id": "UIrQlXHnanLu"
      }
    },
    {
      "cell_type": "code",
      "execution_count": 102,
      "source": [
        "# checking the 9001th output  in the test set\n",
        "# CORRECT CLASSIFICATION OF DIGIT 7 --> PROBABILITY = 0.989\n",
        "test_probas[:, 9000]"
      ],
      "outputs": [
        {
          "output_type": "execute_result",
          "data": {
            "text/plain": [
              "array([9.54343684e-05, 2.04316362e-07, 1.24272761e-05, 3.26800182e-05,\n",
              "       3.89342473e-05, 3.70495127e-05, 2.92280557e-07, 9.89651797e-01,\n",
              "       9.48187890e-05, 1.00363618e-02])"
            ]
          },
          "metadata": {},
          "execution_count": 102
        }
      ],
      "metadata": {
        "colab": {
          "base_uri": "https://localhost:8080/"
        },
        "id": "VgOiXOLfanJO",
        "outputId": "c0f47a08-af35-4103-db19-826cb8fc507b"
      }
    },
    {
      "cell_type": "code",
      "execution_count": 103,
      "source": [
        "# plotting the 9001th input of the test set\n",
        "imshow((X_test[:, 9000].reshape(28,28)));"
      ],
      "outputs": [
        {
          "output_type": "display_data",
          "data": {
            "text/plain": [
              "<Figure size 432x288 with 1 Axes>"
            ],
            "image/png": "[encoded data removed]"
          },
          "metadata": {
            "needs_background": "light"
          }
        }
      ],
      "metadata": {
        "colab": {
          "base_uri": "https://localhost:8080/",
          "height": 265
        },
        "id": "Rb7948ukanGu",
        "outputId": "f8fac98f-4ec8-4d7e-9f52-6186ec1b153c"
      }
    },
    {
      "cell_type": "code",
      "execution_count": 103,
      "source": [],
      "outputs": [],
      "metadata": {
        "id": "CuoVC0JYanEM"
      }
    },
    {
      "cell_type": "code",
      "execution_count": 106,
      "source": [
        "# checking the 10000th output  in the test set\n",
        "# correct classification of digit 6 ----> probability = 0.9979\n",
        "test_probas[:, 9999]"
      ],
      "outputs": [
        {
          "output_type": "execute_result",
          "data": {
            "text/plain": [
              "array([6.67364661e-04, 5.82725903e-10, 1.25921515e-03, 5.40481615e-08,\n",
              "       2.87872434e-05, 3.35559696e-05, 9.97997227e-01, 3.09666771e-09,\n",
              "       1.32987119e-05, 4.93714154e-07])"
            ]
          },
          "metadata": {},
          "execution_count": 106
        }
      ],
      "metadata": {
        "colab": {
          "base_uri": "https://localhost:8080/"
        },
        "id": "ylmWBo_hg_aB",
        "outputId": "a364f492-1099-4a7a-a112-625b0b3c4bca"
      }
    },
    {
      "cell_type": "code",
      "execution_count": 107,
      "source": [
        "# plotting the 10000th input of the test set\n",
        "imshow((X_test[:, 9999].reshape(28,28)));"
      ],
      "outputs": [
        {
          "output_type": "display_data",
          "data": {
            "text/plain": [
              "<Figure size 432x288 with 1 Axes>"
            ],
            "image/png": "[encoded data removed]"
          },
          "metadata": {
            "needs_background": "light"
          }
        }
      ],
      "metadata": {
        "colab": {
          "base_uri": "https://localhost:8080/",
          "height": 265
        },
        "id": "OZPDr6Vqg_aC",
        "outputId": "b15e24d2-7675-425a-8482-c7f160e528db"
      }
    },
    {
      "cell_type": "code",
      "execution_count": null,
      "source": [],
      "outputs": [],
      "metadata": {
        "id": "NJjsgZyUeBHw"
      }
    }
  ]
}